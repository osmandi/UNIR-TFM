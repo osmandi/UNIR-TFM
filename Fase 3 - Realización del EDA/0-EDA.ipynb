{
 "cells": [
  {
   "metadata": {},
   "cell_type": "markdown",
   "source": "# EDA (Exploratory Data Analysis)",
   "id": "c2a0a65d6a5fcf1"
  },
  {
   "metadata": {},
   "cell_type": "markdown",
   "source": "## Start SparkSession",
   "id": "f20af84fa07850e8"
  },
  {
   "metadata": {
    "ExecuteTime": {
     "end_time": "2025-01-13T20:46:04.396137Z",
     "start_time": "2025-01-13T20:46:04.390873Z"
    }
   },
   "cell_type": "code",
   "source": [
    "# Import packages\n",
    "from pyspark.sql import SparkSession\n",
    "import pyspark.sql.functions as F\n",
    "import pyspark.sql.types as T\n",
    "from pyspark.sql.window import Window\n",
    "from pyspark.sql.dataframe import  DataFrame\n",
    "import functools\n",
    "import seaborn as sns\n",
    "import matplotlib.pyplot as plt"
   ],
   "id": "202c0f5f3307b441",
   "outputs": [],
   "execution_count": 47
  },
  {
   "metadata": {
    "ExecuteTime": {
     "end_time": "2025-01-13T20:40:08.459393Z",
     "start_time": "2025-01-13T20:40:05.287939Z"
    }
   },
   "cell_type": "code",
   "source": [
    "# Start Spark session\n",
    "spark = SparkSession.builder.appName(\"EDA\").getOrCreate()\n",
    "print(f\"Spark version: {spark.version}\")"
   ],
   "id": "c2f21b2b6d8714bb",
   "outputs": [
    {
     "name": "stderr",
     "output_type": "stream",
     "text": [
      "25/01/13 20:40:05 INFO SparkEnv: Registering MapOutputTracker\n",
      "25/01/13 20:40:05 INFO SparkEnv: Registering BlockManagerMaster\n",
      "25/01/13 20:40:05 INFO SparkEnv: Registering BlockManagerMasterHeartbeat\n",
      "25/01/13 20:40:05 INFO SparkEnv: Registering OutputCommitCoordinator\n"
     ]
    },
    {
     "name": "stdout",
     "output_type": "stream",
     "text": [
      "Spark version: 3.5.1\n"
     ]
    }
   ],
   "execution_count": 44
  },
  {
   "metadata": {},
   "cell_type": "markdown",
   "source": "## Load data",
   "id": "b1670de6227f05a7"
  },
  {
   "metadata": {
    "ExecuteTime": {
     "end_time": "2025-01-13T21:03:09.401033Z",
     "start_time": "2025-01-13T21:03:09.171266Z"
    }
   },
   "cell_type": "code",
   "source": "df = spark.read.parquet(\"/TFM/data/bronze/velocidades_bitcarrier.parquet\")",
   "id": "df8609d95bbfe2f2",
   "outputs": [],
   "execution_count": 60
  },
  {
   "metadata": {},
   "cell_type": "markdown",
   "source": "## Data exploration",
   "id": "72523ce7265cdf92"
  },
  {
   "metadata": {
    "ExecuteTime": {
     "end_time": "2025-01-13T20:10:54.979179Z",
     "start_time": "2025-01-13T20:10:49.578973Z"
    }
   },
   "cell_type": "code",
   "source": "",
   "id": "2ada972927baaf21",
   "outputs": [
    {
     "name": "stderr",
     "output_type": "stream",
     "text": [
      "                                                                                \r"
     ]
    }
   ],
   "execution_count": 4
  },
  {
   "metadata": {
    "ExecuteTime": {
     "end_time": "2025-01-13T20:11:01.809463Z",
     "start_time": "2025-01-13T20:10:55.072358Z"
    }
   },
   "cell_type": "code",
   "source": [
    "# How much rows and columns we have\n",
    "total_rows = df.count()\n",
    "columns = df.columns\n",
    "print(f\"Total rows: {total_rows:,}\".replace(\",\", \".\"))\n",
    "print(f\"Total columns: {len(columns)}\")"
   ],
   "id": "13933dd33a4c6cbb",
   "outputs": [
    {
     "name": "stderr",
     "output_type": "stream",
     "text": [
      "[Stage 1:===================================================>     (17 + 2) / 19]\r"
     ]
    },
    {
     "name": "stdout",
     "output_type": "stream",
     "text": [
      "Total rows: 71.719.687\n",
      "Total columns: 24\n"
     ]
    },
    {
     "name": "stderr",
     "output_type": "stream",
     "text": [
      "                                                                                \r"
     ]
    }
   ],
   "execution_count": 5
  },
  {
   "metadata": {
    "ExecuteTime": {
     "end_time": "2025-01-13T20:11:04.932713Z",
     "start_time": "2025-01-13T20:11:01.916786Z"
    }
   },
   "cell_type": "code",
   "source": [
    "# Show first rows\n",
    "df.limit(10).show()"
   ],
   "id": "59d925da2fd5732d",
   "outputs": [
    {
     "name": "stderr",
     "output_type": "stream",
     "text": [
      "                                                                                \r"
     ]
    },
    {
     "name": "stdout",
     "output_type": "stream",
     "text": [
      "+--------+---+-------------------+-------------------+----+----+--------+----+------------+-----------+----------+---------+---------+----------+-------------+------+--------+----------+-------------+---------------+-------------------+-----------------+--------------+---------------+\n",
      "|OBJECTID|TID|             INICIO|                FIN| AÑO|HORA|DISTANCE|TYPE|VEL_PROMEDIO|CUARTO_HORA|DIA_SEMANA|      MES|NAME_FROM|   NAME_TO|VEL_PONDERADA|CODIGO|COEF_BRT|COEF_MIXTO|VEL_MEDIA_BRT|VEL_MEDIA_MIXTO|VEL_MEDIA_PONDERADA|    Shape__Length|         LLAVE|NUMDISPOSITIVOS|\n",
      "+--------+---+-------------------+-------------------+----+----+--------+----+------------+-----------+----------+---------+---------+----------+-------------+------+--------+----------+-------------+---------------+-------------------+-----------------+--------------+---------------+\n",
      "|       1|  1|2021-04-01 00:00:00|2021-04-01 00:15:00|2021|   0|   17482|   0|   35.288937|   00:00:00|    Jueves|April    |      KR7|CL188;CL32|    35.288937|  NULL|    NULL|      NULL|         NULL|           NULL|          35.288937|0.143396435836611|KR7-CL188;CL32|           NULL|\n",
      "|       2|  1|2021-04-01 00:15:00|2021-04-01 00:30:00|2021|   0|   17482|   0|   36.072962|   00:15:00|    Jueves|April    |      KR7|CL188;CL32|    36.072962|  NULL|    NULL|      NULL|         NULL|           NULL|          36.072962|0.143396435836611|KR7-CL188;CL32|           NULL|\n",
      "|       3|  1|2021-04-01 00:30:00|2021-04-01 00:45:00|2021|   0|   17482|   0| 37.38006767|   00:30:00|    Jueves|April    |      KR7|CL188;CL32|  37.38006767|  NULL|    NULL|      NULL|         NULL|           NULL|        37.38006767|0.143396435836611|KR7-CL188;CL32|           NULL|\n",
      "|       4|  1|2021-04-01 00:45:00|2021-04-01 01:00:00|2021|   0|   17482|   0|   37.958504|   00:45:00|    Jueves|April    |      KR7|CL188;CL32|    37.958504|  NULL|    NULL|      NULL|         NULL|           NULL|          37.958504|0.143396435836611|KR7-CL188;CL32|           NULL|\n",
      "|       5|  1|2021-04-01 01:30:00|2021-04-01 01:45:00|2021|   1|   17482|   0|    39.20934|   01:30:00|    Jueves|April    |      KR7|CL188;CL32|     39.20934|  NULL|    NULL|      NULL|         NULL|           NULL|           39.20934|0.143396435836611|KR7-CL188;CL32|           NULL|\n",
      "|       6|  1|2021-04-01 01:45:00|2021-04-01 02:00:00|2021|   1|   17482|   0| 41.00490567|   01:45:00|    Jueves|April    |      KR7|CL188;CL32|  41.00490567|  NULL|    NULL|      NULL|         NULL|           NULL|        41.00490567|0.143396435836611|KR7-CL188;CL32|           NULL|\n",
      "|       7|  1|2021-04-01 02:00:00|2021-04-01 02:15:00|2021|   2|   17482|   0|    42.18177|   02:00:00|    Jueves|April    |      KR7|CL188;CL32|     42.18177|  NULL|    NULL|      NULL|         NULL|           NULL|           42.18177|0.143396435836611|KR7-CL188;CL32|           NULL|\n",
      "|       8|  1|2021-04-01 02:30:00|2021-04-01 02:45:00|2021|   2|   17482|   0|   43.553772|   02:30:00|    Jueves|April    |      KR7|CL188;CL32|    43.553772|  NULL|    NULL|      NULL|         NULL|           NULL|          43.553772|0.143396435836611|KR7-CL188;CL32|           NULL|\n",
      "|       9|  1|2021-04-01 02:45:00|2021-04-01 03:00:00|2021|   2|   17482|   0|  43.6645685|   02:45:00|    Jueves|April    |      KR7|CL188;CL32|   43.6645685|  NULL|    NULL|      NULL|         NULL|           NULL|         43.6645685|0.143396435836611|KR7-CL188;CL32|           NULL|\n",
      "|      10|  1|2021-04-01 04:30:00|2021-04-01 04:45:00|2021|   4|   17482|   0|   36.825745|   04:30:00|    Jueves|April    |      KR7|CL188;CL32|    36.825745|  NULL|    NULL|      NULL|         NULL|           NULL|          36.825745|0.143396435836611|KR7-CL188;CL32|           NULL|\n",
      "+--------+---+-------------------+-------------------+----+----+--------+----+------------+-----------+----------+---------+---------+----------+-------------+------+--------+----------+-------------+---------------+-------------------+-----------------+--------------+---------------+\n",
      "\n"
     ]
    }
   ],
   "execution_count": 6
  },
  {
   "metadata": {
    "ExecuteTime": {
     "end_time": "2025-01-13T20:11:05.086339Z",
     "start_time": "2025-01-13T20:11:05.079772Z"
    }
   },
   "cell_type": "code",
   "source": [
    "# Print schema\n",
    "df.printSchema()"
   ],
   "id": "f01e9bc71842bf35",
   "outputs": [
    {
     "name": "stdout",
     "output_type": "stream",
     "text": [
      "root\n",
      " |-- OBJECTID: integer (nullable = true)\n",
      " |-- TID: integer (nullable = true)\n",
      " |-- INICIO: timestamp (nullable = true)\n",
      " |-- FIN: timestamp (nullable = true)\n",
      " |-- AÑO: string (nullable = true)\n",
      " |-- HORA: integer (nullable = true)\n",
      " |-- DISTANCE: integer (nullable = true)\n",
      " |-- TYPE: integer (nullable = true)\n",
      " |-- VEL_PROMEDIO: double (nullable = true)\n",
      " |-- CUARTO_HORA: string (nullable = true)\n",
      " |-- DIA_SEMANA: string (nullable = true)\n",
      " |-- MES: string (nullable = true)\n",
      " |-- NAME_FROM: string (nullable = true)\n",
      " |-- NAME_TO: string (nullable = true)\n",
      " |-- VEL_PONDERADA: double (nullable = true)\n",
      " |-- CODIGO: string (nullable = true)\n",
      " |-- COEF_BRT: double (nullable = true)\n",
      " |-- COEF_MIXTO: double (nullable = true)\n",
      " |-- VEL_MEDIA_BRT: double (nullable = true)\n",
      " |-- VEL_MEDIA_MIXTO: double (nullable = true)\n",
      " |-- VEL_MEDIA_PONDERADA: double (nullable = true)\n",
      " |-- Shape__Length: double (nullable = true)\n",
      " |-- LLAVE: string (nullable = true)\n",
      " |-- NUMDISPOSITIVOS: integer (nullable = true)\n",
      "\n"
     ]
    }
   ],
   "execution_count": 7
  },
  {
   "metadata": {
    "ExecuteTime": {
     "end_time": "2025-01-13T20:11:36.374755Z",
     "start_time": "2025-01-13T20:11:05.217214Z"
    }
   },
   "cell_type": "code",
   "source": [
    "# Show null values percentage for each column\n",
    "(\n",
    "    df.select([ F.round(((F.count(F.when(F.col(col).isNull(), col))/total_rows)*100), 2).alias(col) for col in df.columns]).withColumn(\"UNPIVOT\", F.lit(1))\n",
    "    .unpivot(\"UNPIVOT\", [*columns], \"nombre_columna\", \"porcentaje_valores_nulos\").drop(F.col(\"UNPIVOT\")).sort(F.col(\"porcentaje_valores_nulos\").desc())\n",
    ").show(len(columns))"
   ],
   "id": "5be19feae1a01ea8",
   "outputs": [
    {
     "name": "stderr",
     "output_type": "stream",
     "text": [
      "                                                                                \r"
     ]
    },
    {
     "name": "stdout",
     "output_type": "stream",
     "text": [
      "+-------------------+------------------------+\n",
      "|     nombre_columna|porcentaje_valores_nulos|\n",
      "+-------------------+------------------------+\n",
      "|           COEF_BRT|                   94.63|\n",
      "|         COEF_MIXTO|                   94.63|\n",
      "|      VEL_MEDIA_BRT|                   94.63|\n",
      "|    VEL_MEDIA_MIXTO|                   94.63|\n",
      "|             CODIGO|                   75.85|\n",
      "|              LLAVE|                   70.69|\n",
      "|    NUMDISPOSITIVOS|                   61.25|\n",
      "|VEL_MEDIA_PONDERADA|                   46.54|\n",
      "|                AÑO|                    4.32|\n",
      "|           DISTANCE|                    0.99|\n",
      "|               TYPE|                    0.99|\n",
      "|          NAME_FROM|                    0.99|\n",
      "|            NAME_TO|                    0.99|\n",
      "|      Shape__Length|                    0.99|\n",
      "|           OBJECTID|                     0.0|\n",
      "|                TID|                     0.0|\n",
      "|             INICIO|                     0.0|\n",
      "|                FIN|                     0.0|\n",
      "|               HORA|                     0.0|\n",
      "|       VEL_PROMEDIO|                     0.0|\n",
      "|        CUARTO_HORA|                     0.0|\n",
      "|         DIA_SEMANA|                     0.0|\n",
      "|                MES|                     0.0|\n",
      "|      VEL_PONDERADA|                     0.0|\n",
      "+-------------------+------------------------+\n",
      "\n"
     ]
    }
   ],
   "execution_count": 8
  },
  {
   "metadata": {
    "ExecuteTime": {
     "end_time": "2025-01-13T20:11:46.057793Z",
     "start_time": "2025-01-13T20:11:36.475333Z"
    }
   },
   "cell_type": "code",
   "source": [
    "# Show example values for each column\n",
    "col_join_key = \"UNION_KEY\"\n",
    "dfs_example_values = [df.select(F.col(COLNAME)).where(F.col(COLNAME).isNotNull()).limit(1).withColumn(col_join_key, F.lit(1)) for COLNAME in df.columns]\n",
    "dfs_example_values = functools.reduce(functools.partial(DataFrame.join, on=[col_join_key]), dfs_example_values)\n",
    "dfs_example_values.toPandas().melt(id_vars=[col_join_key], value_vars=[*df.columns], var_name=\"column_name\", value_name=\"example_value\").drop(columns=[col_join_key])"
   ],
   "id": "c4a7df9f35517276",
   "outputs": [
    {
     "name": "stderr",
     "output_type": "stream",
     "text": [
      "                                                                                \r"
     ]
    },
    {
     "data": {
      "text/plain": [
       "            column_name        example_value\n",
       "0              OBJECTID               611810\n",
       "1                   TID              1001059\n",
       "2                INICIO  2021-04-01 00:00:00\n",
       "3                   FIN  2021-11-25 05:45:00\n",
       "4                   AÑO                 2020\n",
       "5                  HORA                    3\n",
       "6              DISTANCE                  906\n",
       "7                  TYPE                    0\n",
       "8          VEL_PROMEDIO            35.288937\n",
       "9           CUARTO_HORA             00:00:00\n",
       "10           DIA_SEMANA               Jueves\n",
       "11                  MES            April    \n",
       "12            NAME_FROM                  KR7\n",
       "13              NAME_TO           CL188;CL32\n",
       "14        VEL_PONDERADA            24.883065\n",
       "15               CODIGO       KR7-CL188;CL32\n",
       "16             COEF_BRT             0.456081\n",
       "17           COEF_MIXTO             0.560794\n",
       "18        VEL_MEDIA_BRT            18.525574\n",
       "19      VEL_MEDIA_MIXTO            12.928253\n",
       "20  VEL_MEDIA_PONDERADA             9.026274\n",
       "21        Shape__Length             0.143396\n",
       "22                LLAVE       CL170-KR9;KR20\n",
       "23      NUMDISPOSITIVOS                    7"
      ],
      "text/html": [
       "<div>\n",
       "<style scoped>\n",
       "    .dataframe tbody tr th:only-of-type {\n",
       "        vertical-align: middle;\n",
       "    }\n",
       "\n",
       "    .dataframe tbody tr th {\n",
       "        vertical-align: top;\n",
       "    }\n",
       "\n",
       "    .dataframe thead th {\n",
       "        text-align: right;\n",
       "    }\n",
       "</style>\n",
       "<table border=\"1\" class=\"dataframe\">\n",
       "  <thead>\n",
       "    <tr style=\"text-align: right;\">\n",
       "      <th></th>\n",
       "      <th>column_name</th>\n",
       "      <th>example_value</th>\n",
       "    </tr>\n",
       "  </thead>\n",
       "  <tbody>\n",
       "    <tr>\n",
       "      <th>0</th>\n",
       "      <td>OBJECTID</td>\n",
       "      <td>611810</td>\n",
       "    </tr>\n",
       "    <tr>\n",
       "      <th>1</th>\n",
       "      <td>TID</td>\n",
       "      <td>1001059</td>\n",
       "    </tr>\n",
       "    <tr>\n",
       "      <th>2</th>\n",
       "      <td>INICIO</td>\n",
       "      <td>2021-04-01 00:00:00</td>\n",
       "    </tr>\n",
       "    <tr>\n",
       "      <th>3</th>\n",
       "      <td>FIN</td>\n",
       "      <td>2021-11-25 05:45:00</td>\n",
       "    </tr>\n",
       "    <tr>\n",
       "      <th>4</th>\n",
       "      <td>AÑO</td>\n",
       "      <td>2020</td>\n",
       "    </tr>\n",
       "    <tr>\n",
       "      <th>5</th>\n",
       "      <td>HORA</td>\n",
       "      <td>3</td>\n",
       "    </tr>\n",
       "    <tr>\n",
       "      <th>6</th>\n",
       "      <td>DISTANCE</td>\n",
       "      <td>906</td>\n",
       "    </tr>\n",
       "    <tr>\n",
       "      <th>7</th>\n",
       "      <td>TYPE</td>\n",
       "      <td>0</td>\n",
       "    </tr>\n",
       "    <tr>\n",
       "      <th>8</th>\n",
       "      <td>VEL_PROMEDIO</td>\n",
       "      <td>35.288937</td>\n",
       "    </tr>\n",
       "    <tr>\n",
       "      <th>9</th>\n",
       "      <td>CUARTO_HORA</td>\n",
       "      <td>00:00:00</td>\n",
       "    </tr>\n",
       "    <tr>\n",
       "      <th>10</th>\n",
       "      <td>DIA_SEMANA</td>\n",
       "      <td>Jueves</td>\n",
       "    </tr>\n",
       "    <tr>\n",
       "      <th>11</th>\n",
       "      <td>MES</td>\n",
       "      <td>April</td>\n",
       "    </tr>\n",
       "    <tr>\n",
       "      <th>12</th>\n",
       "      <td>NAME_FROM</td>\n",
       "      <td>KR7</td>\n",
       "    </tr>\n",
       "    <tr>\n",
       "      <th>13</th>\n",
       "      <td>NAME_TO</td>\n",
       "      <td>CL188;CL32</td>\n",
       "    </tr>\n",
       "    <tr>\n",
       "      <th>14</th>\n",
       "      <td>VEL_PONDERADA</td>\n",
       "      <td>24.883065</td>\n",
       "    </tr>\n",
       "    <tr>\n",
       "      <th>15</th>\n",
       "      <td>CODIGO</td>\n",
       "      <td>KR7-CL188;CL32</td>\n",
       "    </tr>\n",
       "    <tr>\n",
       "      <th>16</th>\n",
       "      <td>COEF_BRT</td>\n",
       "      <td>0.456081</td>\n",
       "    </tr>\n",
       "    <tr>\n",
       "      <th>17</th>\n",
       "      <td>COEF_MIXTO</td>\n",
       "      <td>0.560794</td>\n",
       "    </tr>\n",
       "    <tr>\n",
       "      <th>18</th>\n",
       "      <td>VEL_MEDIA_BRT</td>\n",
       "      <td>18.525574</td>\n",
       "    </tr>\n",
       "    <tr>\n",
       "      <th>19</th>\n",
       "      <td>VEL_MEDIA_MIXTO</td>\n",
       "      <td>12.928253</td>\n",
       "    </tr>\n",
       "    <tr>\n",
       "      <th>20</th>\n",
       "      <td>VEL_MEDIA_PONDERADA</td>\n",
       "      <td>9.026274</td>\n",
       "    </tr>\n",
       "    <tr>\n",
       "      <th>21</th>\n",
       "      <td>Shape__Length</td>\n",
       "      <td>0.143396</td>\n",
       "    </tr>\n",
       "    <tr>\n",
       "      <th>22</th>\n",
       "      <td>LLAVE</td>\n",
       "      <td>CL170-KR9;KR20</td>\n",
       "    </tr>\n",
       "    <tr>\n",
       "      <th>23</th>\n",
       "      <td>NUMDISPOSITIVOS</td>\n",
       "      <td>7</td>\n",
       "    </tr>\n",
       "  </tbody>\n",
       "</table>\n",
       "</div>"
      ]
     },
     "execution_count": 9,
     "metadata": {},
     "output_type": "execute_result"
    }
   ],
   "execution_count": 9
  },
  {
   "metadata": {
    "ExecuteTime": {
     "end_time": "2025-01-13T20:12:44.046333Z",
     "start_time": "2025-01-13T20:11:46.213744Z"
    }
   },
   "cell_type": "code",
   "source": [
    "# Statistics summary in numeric columns\n",
    "df.select(F.col(\"DISTANCE\"), F.col(\"VEL_PROMEDIO\"), F.col(\"VEl_PONDERADA\"), F.col(\"COEF_BRT\"), F.col(\"COEF_MIXTO\"), F.col(\"VEL_MEDIA_BRT\"), F.col(\"VEL_MEDIA_MIXTO\"), F.col(\"VEL_MEDIA_PONDERADA\"), F.col(\"NUMDISPOSITIVOS\"), F.col(\"Shape__Length\")).summary().show()"
   ],
   "id": "7af6ad9a6f9e9372",
   "outputs": [
    {
     "name": "stderr",
     "output_type": "stream",
     "text": [
      "25/01/13 20:11:46 WARN SparkStringUtils: Truncated the string representation of a plan since it was too large. This behavior can be adjusted by setting 'spark.sql.debug.maxToStringFields'.\n",
      "[Stage 87:>                                                         (0 + 1) / 1]\r"
     ]
    },
    {
     "name": "stdout",
     "output_type": "stream",
     "text": [
      "+-------+-----------------+------------------+------------------+------------------+-------------------+------------------+------------------+-------------------+-----------------+--------------------+\n",
      "|summary|         DISTANCE|      VEL_PROMEDIO|     VEl_PONDERADA|          COEF_BRT|         COEF_MIXTO|     VEL_MEDIA_BRT|   VEL_MEDIA_MIXTO|VEL_MEDIA_PONDERADA|  NUMDISPOSITIVOS|       Shape__Length|\n",
      "+-------+-----------------+------------------+------------------+------------------+-------------------+------------------+------------------+-------------------+-----------------+--------------------+\n",
      "|  count|         71013194|          71719687|          71719687|           3853803|            3853803|           3853803|           3853803|           38343829|         27791036|            71013194|\n",
      "|   mean|1324.246455567116| 28.76852456679515|27.418739188797222|0.5815645850286224| 0.4184354149714439|23.910654082975014|17.442293129716873|  26.04536983929322|7.245159446376882| 0.01335542943124223|\n",
      "| stddev|2218.958330271577|13.687239025387916|13.461437204350327|0.0867189265785084|0.08671892657850795| 8.971573654532477| 7.449540588384181| 12.385330769042618|9.469626503331881|0.055495238864296206|\n",
      "|    min|              160|           3.00322|        0.27622222|           0.40952|           0.127341|        0.67307994|        0.42875833|         0.42875833|                1| 1.52775293751248E-6|\n",
      "|    25%|              564|             18.46|          17.35625|          0.522659|           0.369785|       17.34116838|        11.2413623|          16.910073|                3| 0.00507131751245845|\n",
      "|    50%|              851|       26.55103233|        25.2444232|          0.573066|           0.426934|       23.53045131|       17.56409123|        24.04957367|                4| 0.00764250739086606|\n",
      "|    75%|             1280|             36.93|         35.400296|          0.630215|           0.477341|       30.26816766|       22.69861256|        33.29825464|                8|  0.0112903798097417|\n",
      "|    max|            36347|           214.305|      222.31904762|          0.872659|            0.59048|       73.47179016|       58.19081712|       222.31904762|              780|     1.4142135623731|\n",
      "+-------+-----------------+------------------+------------------+------------------+-------------------+------------------+------------------+-------------------+-----------------+--------------------+\n",
      "\n"
     ]
    },
    {
     "name": "stderr",
     "output_type": "stream",
     "text": [
      "                                                                                \r"
     ]
    }
   ],
   "execution_count": 10
  },
  {
   "metadata": {
    "ExecuteTime": {
     "end_time": "2025-01-13T20:12:55.669151Z",
     "start_time": "2025-01-13T20:12:44.161800Z"
    }
   },
   "cell_type": "code",
   "source": [
    "# Statistics summary of NUMDISPOSITIVOS column only for each year\n",
    "(\n",
    "    df.where(F.col(\"AÑO\")==2020).select(F.col(\"NUMDISPOSITIVOS\")).summary().withColumnRenamed(\"NUMDISPOSITIVOS\", \"NUMDISPOSITIVOS_2020\")\n",
    "    .join(df.where(F.col(\"AÑO\")==2021).select(F.col(\"NUMDISPOSITIVOS\")).summary().withColumnRenamed(\"NUMDISPOSITIVOS\", \"NUMDISPOSITIVOS_2021\"), \"summary\")\n",
    "    .join(df.where(F.col(\"AÑO\")==2022).select(F.col(\"NUMDISPOSITIVOS\")).summary().withColumnRenamed(\"NUMDISPOSITIVOS\", \"NUMDISPOSITIVOS_2022\"), \"summary\")\n",
    ").show()"
   ],
   "id": "4dd73a6e37fa5471",
   "outputs": [
    {
     "name": "stderr",
     "output_type": "stream",
     "text": [
      "                                                                                \r"
     ]
    },
    {
     "name": "stdout",
     "output_type": "stream",
     "text": [
      "+-------+--------------------+--------------------+--------------------+\n",
      "|summary|NUMDISPOSITIVOS_2020|NUMDISPOSITIVOS_2021|NUMDISPOSITIVOS_2022|\n",
      "+-------+--------------------+--------------------+--------------------+\n",
      "|  count|                   0|             5603120|            19297269|\n",
      "|   mean|                NULL|  6.3164531546709695|   7.492338268176704|\n",
      "| stddev|                NULL|   5.758806082237867|  10.282916940940229|\n",
      "|    min|                NULL|                   1|                   1|\n",
      "|    25%|                NULL|                   3|                   3|\n",
      "|    50%|                NULL|                   4|                   4|\n",
      "|    75%|                NULL|                   7|                   8|\n",
      "|    max|                NULL|                 118|                 780|\n",
      "+-------+--------------------+--------------------+--------------------+\n",
      "\n"
     ]
    }
   ],
   "execution_count": 11
  },
  {
   "metadata": {
    "ExecuteTime": {
     "end_time": "2025-01-13T20:13:09.270823Z",
     "start_time": "2025-01-13T20:12:55.787214Z"
    }
   },
   "cell_type": "code",
   "source": [
    "# Statistics summary of VEL_PROMEDIO column only for each year\n",
    "(\n",
    "    df.where(F.col(\"AÑO\")==2020).select(F.col(\"VEL_PROMEDIO\")).summary().withColumnRenamed(\"VEL_PROMEDIO\", \"VEL_PROMEDIO_2020\")\n",
    "    .join(df.where(F.col(\"AÑO\")==2021).select(F.col(\"VEL_PROMEDIO\")).summary().withColumnRenamed(\"VEL_PROMEDIO\", \"VEL_PROMEDIO_2021\"), \"summary\")\n",
    "    .join(df.where(F.col(\"AÑO\")==2022).select(F.col(\"VEL_PROMEDIO\")).summary().withColumnRenamed(\"VEL_PROMEDIO\", \"VEL_PROMEDIO_2022\"), \"summary\")\n",
    ").show()"
   ],
   "id": "513e3d43bb2878c1",
   "outputs": [
    {
     "name": "stderr",
     "output_type": "stream",
     "text": [
      "                                                                                \r"
     ]
    },
    {
     "name": "stdout",
     "output_type": "stream",
     "text": [
      "+-------+------------------+------------------+------------------+\n",
      "|summary| VEL_PROMEDIO_2020| VEL_PROMEDIO_2021| VEL_PROMEDIO_2022|\n",
      "+-------+------------------+------------------+------------------+\n",
      "|  count|          26018083|          23308459|          19297269|\n",
      "|   mean|29.807563415146877|29.451147989747458|26.785079834673386|\n",
      "| stddev|13.455069433395822|14.009847345045499|13.445746987748297|\n",
      "|    min|           3.00322|          3.009375|              3.42|\n",
      "|    25%|       19.55508567|            18.845|       16.75666667|\n",
      "|    50%|        27.6326745|       27.08743867|       24.60666667|\n",
      "|    75%|       37.88543267|        37.7504715|              34.8|\n",
      "|    max|             99.99|           214.305|            212.91|\n",
      "+-------+------------------+------------------+------------------+\n",
      "\n"
     ]
    },
    {
     "name": "stderr",
     "output_type": "stream",
     "text": [
      "                                                                                \r"
     ]
    }
   ],
   "execution_count": 12
  },
  {
   "metadata": {
    "ExecuteTime": {
     "end_time": "2025-01-13T20:13:13.037442Z",
     "start_time": "2025-01-13T20:13:09.403559Z"
    }
   },
   "cell_type": "code",
   "source": [
    "# Average of NUMDISPOSITIVOS for eac hour column for the principal streets\n",
    "sns.set_style(\"whitegrid\")\n",
    "ax = sns.lineplot(data=df.where((F.col(\"NAME_FROM\").isin(\"KR9\", \"KR7\", \"AUTONORTE\", \"AV.CARACAS\", \"AV.SUBA\"))).groupby(F.col(\"NAME_FROM\"), F.col(\"HORA\")).agg(F.avg(F.col(\"NUMDISPOSITIVOS\")).alias(\"NUMDISPOSITIVOS\")).toPandas(), x=\"HORA\", y=\"NUMDISPOSITIVOS\", hue=\"NAME_FROM\")\n",
    "ax.set_xticks(range(24), labels=[\"0\",\"1\", \"2\", \"3\", \"4\", \"5\", \"6\", \"7\", \"8\", \"9\", \"10\", \"11\", \"12\", \"13\", \"14\", \"15\", \"16\", \"17\", \"18\", \"19\", \"20\", \"21\", \"22\", \"23\"])"
   ],
   "id": "3e331911e38e90e5",
   "outputs": [
    {
     "name": "stderr",
     "output_type": "stream",
     "text": [
      "                                                                                \r"
     ]
    },
    {
     "data": {
      "text/plain": [
       "[<matplotlib.axis.XTick at 0x7a953fbc2150>,\n",
       " <matplotlib.axis.XTick at 0x7a953fa1c9d0>,\n",
       " <matplotlib.axis.XTick at 0x7a953fa0df90>,\n",
       " <matplotlib.axis.XTick at 0x7a953fa8b1d0>,\n",
       " <matplotlib.axis.XTick at 0x7a953faa1450>,\n",
       " <matplotlib.axis.XTick at 0x7a953faa00d0>,\n",
       " <matplotlib.axis.XTick at 0x7a953faacf10>,\n",
       " <matplotlib.axis.XTick at 0x7a953fd329d0>,\n",
       " <matplotlib.axis.XTick at 0x7a953fd40590>,\n",
       " <matplotlib.axis.XTick at 0x7a953fadc6d0>,\n",
       " <matplotlib.axis.XTick at 0x7a95444eb690>,\n",
       " <matplotlib.axis.XTick at 0x7a953fb887d0>,\n",
       " <matplotlib.axis.XTick at 0x7a953fbd2e10>,\n",
       " <matplotlib.axis.XTick at 0x7a953fbaa290>,\n",
       " <matplotlib.axis.XTick at 0x7a953fa06a90>,\n",
       " <matplotlib.axis.XTick at 0x7a953fbab290>,\n",
       " <matplotlib.axis.XTick at 0x7a953fa0d190>,\n",
       " <matplotlib.axis.XTick at 0x7a953fbc2f50>,\n",
       " <matplotlib.axis.XTick at 0x7a953fd200d0>,\n",
       " <matplotlib.axis.XTick at 0x7a953fade990>,\n",
       " <matplotlib.axis.XTick at 0x7a953fa1df50>,\n",
       " <matplotlib.axis.XTick at 0x7a953fae4f90>,\n",
       " <matplotlib.axis.XTick at 0x7a953fae70d0>,\n",
       " <matplotlib.axis.XTick at 0x7a953faf0f90>]"
      ]
     },
     "execution_count": 13,
     "metadata": {},
     "output_type": "execute_result"
    },
    {
     "data": {
      "text/plain": [
       "<Figure size 640x480 with 1 Axes>"
      ],
      "image/png": "[encoded data removed]"
     },
     "metadata": {},
     "output_type": "display_data"
    }
   ],
   "execution_count": 13
  },
  {
   "metadata": {
    "ExecuteTime": {
     "end_time": "2025-01-13T20:13:16.453980Z",
     "start_time": "2025-01-13T20:13:13.313835Z"
    }
   },
   "cell_type": "code",
   "source": [
    "# Average of VEL_PROMEDIO for eac hour column for the principal streets\n",
    "sns.set_style(\"whitegrid\")\n",
    "ax = sns.lineplot(data=df.where((F.col(\"NAME_FROM\").isin(\"KR9\", \"KR7\", \"AUTONORTE\", \"AV.CARACAS\", \"AV.SUBA\"))).groupby(F.col(\"NAME_FROM\"), F.col(\"HORA\")).agg(F.avg(F.col(\"VEL_PROMEDIO\")).alias(\"VEL_PROMEDIO\")).toPandas(), x=\"HORA\", y=\"VEL_PROMEDIO\", hue=\"NAME_FROM\")\n",
    "ax.set_xticks(range(24), labels=[\"0\",\"1\", \"2\", \"3\", \"4\", \"5\", \"6\", \"7\", \"8\", \"9\", \"10\", \"11\", \"12\", \"13\", \"14\", \"15\", \"16\", \"17\", \"18\", \"19\", \"20\", \"21\", \"22\", \"23\"])"
   ],
   "id": "ac323125d6752141",
   "outputs": [
    {
     "name": "stderr",
     "output_type": "stream",
     "text": [
      "                                                                                \r"
     ]
    },
    {
     "data": {
      "text/plain": [
       "[<matplotlib.axis.XTick at 0x7a953f945f10>,\n",
       " <matplotlib.axis.XTick at 0x7a953f95d890>,\n",
       " <matplotlib.axis.XTick at 0x7a953f903910>,\n",
       " <matplotlib.axis.XTick at 0x7a953f9b8310>,\n",
       " <matplotlib.axis.XTick at 0x7a953f9ba950>,\n",
       " <matplotlib.axis.XTick at 0x7a953f9bcb50>,\n",
       " <matplotlib.axis.XTick at 0x7a953f9bee90>,\n",
       " <matplotlib.axis.XTick at 0x7a953fefad50>,\n",
       " <matplotlib.axis.XTick at 0x7a953f9a3210>,\n",
       " <matplotlib.axis.XTick at 0x7a953f9d7f90>,\n",
       " <matplotlib.axis.XTick at 0x7a953f9e1210>,\n",
       " <matplotlib.axis.XTick at 0x7a953f9e3410>,\n",
       " <matplotlib.axis.XTick at 0x7a953f9ed5d0>,\n",
       " <matplotlib.axis.XTick at 0x7a953f9ef6d0>,\n",
       " <matplotlib.axis.XTick at 0x7a953f9f5890>,\n",
       " <matplotlib.axis.XTick at 0x7a953f9e2b50>,\n",
       " <matplotlib.axis.XTick at 0x7a953f9f7fd0>,\n",
       " <matplotlib.axis.XTick at 0x7a953f9fa310>,\n",
       " <matplotlib.axis.XTick at 0x7a953f9fc590>,\n",
       " <matplotlib.axis.XTick at 0x7a953f9fe710>,\n",
       " <matplotlib.axis.XTick at 0x7a953f9fd410>,\n",
       " <matplotlib.axis.XTick at 0x7a953ef04f10>,\n",
       " <matplotlib.axis.XTick at 0x7a953ef06f90>,\n",
       " <matplotlib.axis.XTick at 0x7a953ef0d150>]"
      ]
     },
     "execution_count": 14,
     "metadata": {},
     "output_type": "execute_result"
    },
    {
     "data": {
      "text/plain": [
       "<Figure size 640x480 with 1 Axes>"
      ],
      "image/png": "[encoded data removed]"
     },
     "metadata": {},
     "output_type": "display_data"
    }
   ],
   "execution_count": 14
  },
  {
   "metadata": {
    "ExecuteTime": {
     "end_time": "2025-01-13T20:13:20.248093Z",
     "start_time": "2025-01-13T20:13:16.720350Z"
    }
   },
   "cell_type": "code",
   "source": [
    "# TYPE column by year without NULL in AÑO column\n",
    "df.withColumn(\"AÑO\", F.year(F.col(\"INICIO\"))).groupby(F.col(\"AÑO\"), F.col(\"TYPE\")).count().sort(F.col(\"AÑO\").asc(), F.col(\"TYPE\").asc()).show()"
   ],
   "id": "790cd82c9866f631",
   "outputs": [
    {
     "name": "stderr",
     "output_type": "stream",
     "text": [
      "[Stage 112:==============================================>        (16 + 3) / 19]\r"
     ]
    },
    {
     "name": "stdout",
     "output_type": "stream",
     "text": [
      "+----+----+--------+\n",
      "| AÑO|TYPE|   count|\n",
      "+----+----+--------+\n",
      "|2020|   0| 4625307|\n",
      "|2020|   1|21544995|\n",
      "|2021|NULL|  114703|\n",
      "|2021|   0| 3086600|\n",
      "|2021|   1|20221336|\n",
      "|2022|NULL|  591790|\n",
      "|2022|   1|21534956|\n",
      "+----+----+--------+\n",
      "\n"
     ]
    },
    {
     "name": "stderr",
     "output_type": "stream",
     "text": [
      "                                                                                \r"
     ]
    }
   ],
   "execution_count": 15
  },
  {
   "metadata": {
    "ExecuteTime": {
     "end_time": "2025-01-13T20:13:25.886773Z",
     "start_time": "2025-01-13T20:13:20.365902Z"
    }
   },
   "cell_type": "code",
   "source": [
    "# Is TID a unique values for each NAME_FROM and NAME_TO combination\n",
    "print(\"Is TID unique for each NAME_FROM and NAME_TO combination?:\", df.select(F.col(\"TID\"), F.col(\"NAME_FROM\"), F.col(\"NAME_TO\")).distinct().groupby(F.col(\"TID\")).count().where(F.col(\"count\") > 1).count() == 0)"
   ],
   "id": "c0638e953e7d3cc3",
   "outputs": [
    {
     "name": "stderr",
     "output_type": "stream",
     "text": [
      "[Stage 117:============================================>           (8 + 2) / 10]\r"
     ]
    },
    {
     "name": "stdout",
     "output_type": "stream",
     "text": [
      "Is TID unique for each NAME_FROM and NAME_TO combination?: False\n"
     ]
    },
    {
     "name": "stderr",
     "output_type": "stream",
     "text": [
      "                                                                                \r"
     ]
    }
   ],
   "execution_count": 16
  },
  {
   "metadata": {
    "ExecuteTime": {
     "end_time": "2025-01-13T21:04:45.571491Z",
     "start_time": "2025-01-13T21:04:18.009306Z"
    }
   },
   "cell_type": "code",
   "source": [
    "df = spark.read.parquet(\"/TFM/data/bronze/velocidades_bitcarrier.parquet\")\n",
    "\n",
    "# Create an unique id by path combination\n",
    "df_route_id = df.select(F.col(\"NAME_FROM\"), F.col(\"NAME_TO\")).distinct().withColumn(\"ROUTE_ID\", F.monotonically_increasing_id())\n",
    "\n",
    "# Esto eliminará el 0.99% de los datos\n",
    "df = df.join(F.broadcast(df_route_id), [\"NAME_FROM\", \"NAME_TO\"], how=\"inner\")\n",
    "\n",
    "# Repeat the test\n",
    "print(\"Is ROUTE_ID unique for each NAME_FROM and NAME_TO combination?:\", df.select(F.col(\"ROUTE_ID\"), F.col(\"NAME_FROM\"), F.col(\"NAME_TO\")).distinct().groupby(F.col(\"ROUTE_ID\")).count().where(F.col(\"count\") > 1).count() == 0)"
   ],
   "id": "c8bf3667e113b0c3",
   "outputs": [
    {
     "name": "stderr",
     "output_type": "stream",
     "text": [
      "[Stage 44:==================================================>     (17 + 2) / 19]\r"
     ]
    },
    {
     "name": "stdout",
     "output_type": "stream",
     "text": [
      "Is ROUTE_ID unique for each NAME_FROM and NAME_TO combination?: True\n"
     ]
    },
    {
     "name": "stderr",
     "output_type": "stream",
     "text": [
      "                                                                                \r"
     ]
    }
   ],
   "execution_count": 63
  },
  {
   "metadata": {
    "ExecuteTime": {
     "end_time": "2025-01-13T21:06:29.890994Z",
     "start_time": "2025-01-13T21:06:12.327002Z"
    }
   },
   "cell_type": "code",
   "source": "df.limit(10).show()",
   "id": "befb4a13d28f7c80",
   "outputs": [
    {
     "name": "stderr",
     "output_type": "stream",
     "text": [
      "[Stage 57:>                                                         (0 + 1) / 1]\r"
     ]
    },
    {
     "name": "stdout",
     "output_type": "stream",
     "text": [
      "+---------+----------+--------+---+-------------------+-------------------+----+----+--------+----+------------+-----------+----------+---------+-------------+------+--------+----------+-------------+---------------+-------------------+-----------------+--------------+---------------+--------+\n",
      "|NAME_FROM|   NAME_TO|OBJECTID|TID|             INICIO|                FIN| AÑO|HORA|DISTANCE|TYPE|VEL_PROMEDIO|CUARTO_HORA|DIA_SEMANA|      MES|VEL_PONDERADA|CODIGO|COEF_BRT|COEF_MIXTO|VEL_MEDIA_BRT|VEL_MEDIA_MIXTO|VEL_MEDIA_PONDERADA|    Shape__Length|         LLAVE|NUMDISPOSITIVOS|ROUTE_ID|\n",
      "+---------+----------+--------+---+-------------------+-------------------+----+----+--------+----+------------+-----------+----------+---------+-------------+------+--------+----------+-------------+---------------+-------------------+-----------------+--------------+---------------+--------+\n",
      "|      KR7|CL188;CL32|       1|  1|2021-04-01 00:00:00|2021-04-01 00:15:00|2021|   0|   17482|   0|   35.288937|   00:00:00|    Jueves|April    |    35.288937|  NULL|    NULL|      NULL|         NULL|           NULL|          35.288937|0.143396435836611|KR7-CL188;CL32|           NULL|    1184|\n",
      "|      KR7|CL188;CL32|       2|  1|2021-04-01 00:15:00|2021-04-01 00:30:00|2021|   0|   17482|   0|   36.072962|   00:15:00|    Jueves|April    |    36.072962|  NULL|    NULL|      NULL|         NULL|           NULL|          36.072962|0.143396435836611|KR7-CL188;CL32|           NULL|    1184|\n",
      "|      KR7|CL188;CL32|       3|  1|2021-04-01 00:30:00|2021-04-01 00:45:00|2021|   0|   17482|   0| 37.38006767|   00:30:00|    Jueves|April    |  37.38006767|  NULL|    NULL|      NULL|         NULL|           NULL|        37.38006767|0.143396435836611|KR7-CL188;CL32|           NULL|    1184|\n",
      "|      KR7|CL188;CL32|       4|  1|2021-04-01 00:45:00|2021-04-01 01:00:00|2021|   0|   17482|   0|   37.958504|   00:45:00|    Jueves|April    |    37.958504|  NULL|    NULL|      NULL|         NULL|           NULL|          37.958504|0.143396435836611|KR7-CL188;CL32|           NULL|    1184|\n",
      "|      KR7|CL188;CL32|       5|  1|2021-04-01 01:30:00|2021-04-01 01:45:00|2021|   1|   17482|   0|    39.20934|   01:30:00|    Jueves|April    |     39.20934|  NULL|    NULL|      NULL|         NULL|           NULL|           39.20934|0.143396435836611|KR7-CL188;CL32|           NULL|    1184|\n",
      "|      KR7|CL188;CL32|       6|  1|2021-04-01 01:45:00|2021-04-01 02:00:00|2021|   1|   17482|   0| 41.00490567|   01:45:00|    Jueves|April    |  41.00490567|  NULL|    NULL|      NULL|         NULL|           NULL|        41.00490567|0.143396435836611|KR7-CL188;CL32|           NULL|    1184|\n",
      "|      KR7|CL188;CL32|       7|  1|2021-04-01 02:00:00|2021-04-01 02:15:00|2021|   2|   17482|   0|    42.18177|   02:00:00|    Jueves|April    |     42.18177|  NULL|    NULL|      NULL|         NULL|           NULL|           42.18177|0.143396435836611|KR7-CL188;CL32|           NULL|    1184|\n",
      "|      KR7|CL188;CL32|       8|  1|2021-04-01 02:30:00|2021-04-01 02:45:00|2021|   2|   17482|   0|   43.553772|   02:30:00|    Jueves|April    |    43.553772|  NULL|    NULL|      NULL|         NULL|           NULL|          43.553772|0.143396435836611|KR7-CL188;CL32|           NULL|    1184|\n",
      "|      KR7|CL188;CL32|       9|  1|2021-04-01 02:45:00|2021-04-01 03:00:00|2021|   2|   17482|   0|  43.6645685|   02:45:00|    Jueves|April    |   43.6645685|  NULL|    NULL|      NULL|         NULL|           NULL|         43.6645685|0.143396435836611|KR7-CL188;CL32|           NULL|    1184|\n",
      "|      KR7|CL188;CL32|      10|  1|2021-04-01 04:30:00|2021-04-01 04:45:00|2021|   4|   17482|   0|   36.825745|   04:30:00|    Jueves|April    |    36.825745|  NULL|    NULL|      NULL|         NULL|           NULL|          36.825745|0.143396435836611|KR7-CL188;CL32|           NULL|    1184|\n",
      "+---------+----------+--------+---+-------------------+-------------------+----+----+--------+----+------------+-----------+----------+---------+-------------+------+--------+----------+-------------+---------------+-------------------+-----------------+--------------+---------------+--------+\n",
      "\n"
     ]
    },
    {
     "name": "stderr",
     "output_type": "stream",
     "text": [
      "                                                                                \r"
     ]
    }
   ],
   "execution_count": 64
  },
  {
   "metadata": {
    "ExecuteTime": {
     "end_time": "2025-01-13T20:13:26.072005Z",
     "start_time": "2025-01-13T20:13:25.979978Z"
    }
   },
   "cell_type": "code",
   "source": [
    "# Create columns by NAME_TO column\n",
    "df = df.withColumns(\n",
    "    {\n",
    "        \"NAME_TO_1\": F.replace(F.split_part(F.col(\"NAME_TO\"), F.lit(\";\"), F.lit(1)), F.lit(\"CL\"), F.lit(\"\")).cast(T.IntegerType()),\n",
    "        \"NAME_TO_2\": F.replace(F.split_part(F.col(\"NAME_TO\"), F.lit(\";\"), F.lit(2)), F.lit(\"CL\"), F.lit(\"\")).cast(T.IntegerType()),\n",
    "        \"SENTIDO\": F.when(F.col(\"NAME_TO_1\") < F.col(\"NAME_TO_2\"), F.lit(\"SUR-NORTE\")).otherwise(F.lit(\"NORTE-SUR\"))\n",
    "    }\n",
    ")"
   ],
   "id": "c6e25bea039d15e8",
   "outputs": [],
   "execution_count": 17
  },
  {
   "metadata": {
    "ExecuteTime": {
     "end_time": "2025-01-13T20:13:29.000336Z",
     "start_time": "2025-01-13T20:13:26.167434Z"
    }
   },
   "cell_type": "code",
   "source": [
    "# How much data we have for each year?\n",
    "sns.barplot(df.withColumn(\"AÑO\", F.year(F.col(\"INICIO\"))).groupby(F.col(\"AÑO\")).count().toPandas(), x=\"AÑO\", y=\"count\")"
   ],
   "id": "2306e916c39ae8ef",
   "outputs": [
    {
     "name": "stderr",
     "output_type": "stream",
     "text": [
      "                                                                                \r"
     ]
    },
    {
     "data": {
      "text/plain": [
       "<Axes: xlabel='AÑO', ylabel='count'>"
      ]
     },
     "execution_count": 18,
     "metadata": {},
     "output_type": "execute_result"
    },
    {
     "data": {
      "text/plain": [
       "<Figure size 640x480 with 1 Axes>"
      ],
      "image/png": "[encoded data removed]"
     },
     "metadata": {},
     "output_type": "display_data"
    }
   ],
   "execution_count": 18
  },
  {
   "metadata": {
    "ExecuteTime": {
     "end_time": "2025-01-13T20:25:16.329102Z",
     "start_time": "2025-01-13T20:25:06.930005Z"
    }
   },
   "cell_type": "code",
   "source": [
    "# Hay variaciones en los tramos por años\n",
    "(\n",
    "    df.withColumn(\"AÑO\", F.year(F.col(\"INICIO\")))\n",
    "    .withColumn(\"TRAMO_UNICO\", F.concat(F.col(\"NAME_FROM\"), F.lit(\";\"), F.col(\"NAME_TO\")))\n",
    "    .select(F.col(\"AÑO\"), F.col(\"TRAMO_UNICO\"))\n",
    "    .distinct()\n",
    "    .groupby(F.col(\"AÑO\")).count()\n",
    "    .sort(F.col(\"AÑO\"))\n",
    ").show()"
   ],
   "id": "bf706406b437d88d",
   "outputs": [
    {
     "name": "stderr",
     "output_type": "stream",
     "text": [
      "[Stage 175:====================================================>  (18 + 1) / 19]\r"
     ]
    },
    {
     "name": "stdout",
     "output_type": "stream",
     "text": [
      "+----+-----+\n",
      "| AÑO|count|\n",
      "+----+-----+\n",
      "|2020|  845|\n",
      "|2021| 1474|\n",
      "|2022|  708|\n",
      "+----+-----+\n",
      "\n"
     ]
    },
    {
     "name": "stderr",
     "output_type": "stream",
     "text": [
      "                                                                                \r"
     ]
    }
   ],
   "execution_count": 38
  },
  {
   "metadata": {
    "ExecuteTime": {
     "end_time": "2025-01-13T20:37:26.627160Z",
     "start_time": "2025-01-13T20:37:26.624146Z"
    }
   },
   "cell_type": "code",
   "source": "",
   "id": "10d6ec9433915b46",
   "outputs": [],
   "execution_count": null
  },
  {
   "metadata": {},
   "cell_type": "code",
   "outputs": [],
   "execution_count": null,
   "source": "",
   "id": "ed28a6b5a2915621"
  },
  {
   "metadata": {},
   "cell_type": "code",
   "outputs": [],
   "execution_count": null,
   "source": "",
   "id": "134eba77bc9bfcdc"
  },
  {
   "metadata": {},
   "cell_type": "code",
   "outputs": [],
   "execution_count": null,
   "source": "",
   "id": "f4a31c146e7e5ac0"
  },
  {
   "metadata": {
    "ExecuteTime": {
     "end_time": "2025-01-13T20:13:36.532712Z",
     "start_time": "2025-01-13T20:13:29.525313Z"
    }
   },
   "cell_type": "code",
   "source": [
    "# Frequency diagram VEL_PROMEDIO\n",
    "fig, ax = plt.subplots(figsize=(16, 9))\n",
    "# setting the dimensions of the plot\n",
    "custom_params = {\"axes.spines.right\": False, \"axes.spines.top\": False}\n",
    "sns.set_theme(style=\"ticks\", rc=custom_params)\n",
    "g = sns.barplot(df.select(F.round(F.col(\"VEL_PROMEDIO\"), 0).cast(T.IntegerType()).alias(\"VEL_PROMEDIO\")).groupby(F.col(\"VEL_PROMEDIO\")).agg(F.count(F.col(\"VEL_PROMEDIO\")).alias(\"FREQUENCY\")).toPandas(), x=\"VEL_PROMEDIO\", y=\"FREQUENCY\")\n",
    "# Remove labels\n",
    "g.set(xticklabels=[])\n",
    "g.tick_params(bottom=False)\n",
    "g.set(yticklabels=[])"
   ],
   "id": "fb8d789ed17ebf61",
   "outputs": [
    {
     "name": "stderr",
     "output_type": "stream",
     "text": [
      "                                                                                \r"
     ]
    },
    {
     "data": {
      "text/plain": [
       "[[Text(0, 0.0, ''),\n",
       "  Text(0, 500000.0, ''),\n",
       "  Text(0, 1000000.0, ''),\n",
       "  Text(0, 1500000.0, ''),\n",
       "  Text(0, 2000000.0, ''),\n",
       "  Text(0, 2500000.0, '')]]"
      ]
     },
     "execution_count": 20,
     "metadata": {},
     "output_type": "execute_result"
    },
    {
     "data": {
      "text/plain": [
       "<Figure size 1600x900 with 1 Axes>"
      ],
      "image/png": "[encoded data removed]"
     },
     "metadata": {},
     "output_type": "display_data"
    }
   ],
   "execution_count": 20
  },
  {
   "metadata": {
    "ExecuteTime": {
     "end_time": "2025-01-13T20:13:41.962245Z",
     "start_time": "2025-01-13T20:13:36.708547Z"
    }
   },
   "cell_type": "code",
   "source": [
    "# Frequency distribution for NUMDISPOSITIVOS\n",
    "fig, ax = plt.subplots(figsize=(16, 9))\n",
    "# setting the dimensions of the plot\n",
    "custom_params = {\"axes.spines.right\": False, \"axes.spines.top\": False}\n",
    "sns.set_theme(style=\"ticks\", rc=custom_params)\n",
    "g = sns.barplot(df.select(F.round(F.col(\"NUMDISPOSITIVOS\"), 0).cast(T.IntegerType()).alias(\"NUMDISPOSITIVOS\")).groupby(F.col(\"NUMDISPOSITIVOS\")).agg(F.count(F.col(\"NUMDISPOSITIVOS\")).alias(\"FREQUENCY\")).toPandas(), x=\"NUMDISPOSITIVOS\", y=\"FREQUENCY\")\n",
    "# Remove labels\n",
    "g.set(xticklabels=[])\n",
    "g.tick_params(bottom=False)\n",
    "g.set(yticklabels=[])"
   ],
   "id": "4177a448817b6913",
   "outputs": [
    {
     "name": "stderr",
     "output_type": "stream",
     "text": [
      "                                                                                \r"
     ]
    },
    {
     "data": {
      "text/plain": [
       "[[Text(0, 0.0, ''),\n",
       "  Text(0, 2000000.0, ''),\n",
       "  Text(0, 4000000.0, ''),\n",
       "  Text(0, 6000000.0, ''),\n",
       "  Text(0, 8000000.0, ''),\n",
       "  Text(0, 10000000.0, ''),\n",
       "  Text(0, 12000000.0, ''),\n",
       "  Text(0, 14000000.0, '')]]"
      ]
     },
     "execution_count": 21,
     "metadata": {},
     "output_type": "execute_result"
    },
    {
     "data": {
      "text/plain": [
       "<Figure size 1600x900 with 1 Axes>"
      ],
      "image/png": "[encoded data removed]"
     },
     "metadata": {},
     "output_type": "display_data"
    }
   ],
   "execution_count": 21
  },
  {
   "metadata": {
    "ExecuteTime": {
     "end_time": "2025-01-13T20:13:45.207348Z",
     "start_time": "2025-01-13T20:13:42.136983Z"
    }
   },
   "cell_type": "code",
   "source": [
    "# VEL_PROMEDIO for each year by each hour\n",
    "sns.set_style(\"whitegrid\")\n",
    "ax = sns.lineplot(data=df.where((F.col(\"NAME_FROM\").isin(\"KR9\", \"KR7\", \"AUTONORTE\", \"AV.CARACAS\", \"AV.SUBA\"))).groupby(F.col(\"AÑO\"), F.col(\"HORA\")).agg(F.avg(F.col(\"VEL_PROMEDIO\")).alias(\"VEL_PROMEDIO\")).toPandas(), x=\"HORA\", y=\"VEL_PROMEDIO\", hue=\"AÑO\")\n",
    "ax.set_xticks(range(24), labels=[\"0\",\"1\", \"2\", \"3\", \"4\", \"5\", \"6\", \"7\", \"8\", \"9\", \"10\", \"11\", \"12\", \"13\", \"14\", \"15\", \"16\", \"17\", \"18\", \"19\", \"20\", \"21\", \"22\", \"23\"])"
   ],
   "id": "eb62b762e08f37e5",
   "outputs": [
    {
     "name": "stderr",
     "output_type": "stream",
     "text": [
      "                                                                                \r"
     ]
    },
    {
     "data": {
      "text/plain": [
       "[<matplotlib.axis.XTick at 0x7a952b3c2f10>,\n",
       " <matplotlib.axis.XTick at 0x7a952b3fa910>,\n",
       " <matplotlib.axis.XTick at 0x7a952b3c0710>,\n",
       " <matplotlib.axis.XTick at 0x7a952b218690>,\n",
       " <matplotlib.axis.XTick at 0x7a952b3d9cd0>,\n",
       " <matplotlib.axis.XTick at 0x7a952b3d9a90>,\n",
       " <matplotlib.axis.XTick at 0x7a952b3dd110>,\n",
       " <matplotlib.axis.XTick at 0x7a953fa8ad50>,\n",
       " <matplotlib.axis.XTick at 0x7a952b3ae790>,\n",
       " <matplotlib.axis.XTick at 0x7a952b247090>,\n",
       " <matplotlib.axis.XTick at 0x7a952b251350>,\n",
       " <matplotlib.axis.XTick at 0x7a952b253410>,\n",
       " <matplotlib.axis.XTick at 0x7a952b3f9110>,\n",
       " <matplotlib.axis.XTick at 0x7a952b265f10>,\n",
       " <matplotlib.axis.XTick at 0x7a952b267f10>,\n",
       " <matplotlib.axis.XTick at 0x7a952b276150>,\n",
       " <matplotlib.axis.XTick at 0x7a952b27c190>,\n",
       " <matplotlib.axis.XTick at 0x7a952b2767d0>,\n",
       " <matplotlib.axis.XTick at 0x7a952b27e9d0>,\n",
       " <matplotlib.axis.XTick at 0x7a952b284990>,\n",
       " <matplotlib.axis.XTick at 0x7a952b2869d0>,\n",
       " <matplotlib.axis.XTick at 0x7a952b288a90>,\n",
       " <matplotlib.axis.XTick at 0x7a952b28ac50>,\n",
       " <matplotlib.axis.XTick at 0x7a952b28b190>]"
      ]
     },
     "execution_count": 22,
     "metadata": {},
     "output_type": "execute_result"
    },
    {
     "data": {
      "text/plain": [
       "<Figure size 640x480 with 1 Axes>"
      ],
      "image/png": "[encoded data removed]"
     },
     "metadata": {},
     "output_type": "display_data"
    }
   ],
   "execution_count": 22
  },
  {
   "metadata": {
    "ExecuteTime": {
     "end_time": "2025-01-13T20:14:01.096221Z",
     "start_time": "2025-01-13T20:13:45.469749Z"
    }
   },
   "cell_type": "code",
   "source": [
    "# Distance of NAME_FROM\n",
    "df.where(F.col(\"SENTIDO\")==\"NORTE-SUR\").select(F.col(\"NAME_FROM\"), F.col(\"DISTANCE\")).distinct().groupby(F.col(\"NAME_FROM\")).agg(F.sum(F.col(\"DISTANCE\")).alias(\"TOTAL_DISTANCE\")).sort(F.col(\"TOTAL_DISTANCE\").desc()).limit(10).toPandas()"
   ],
   "id": "5236c4f29f645e0e",
   "outputs": [
    {
     "name": "stderr",
     "output_type": "stream",
     "text": [
      "                                                                                \r"
     ]
    },
    {
     "data": {
      "text/plain": [
       "    NAME_FROM  TOTAL_DISTANCE\n",
       "0        KR72          201623\n",
       "1        KR86          102505\n",
       "2         NQS           77597\n",
       "3   AV.P.MAYO           48152\n",
       "4  AV.CARACAS           45479\n",
       "5        CL13           44551\n",
       "6        KR68           44234\n",
       "7   AUTONORTE           41495\n",
       "8        CL80           38548\n",
       "9         KR7           34484"
      ],
      "text/html": [
       "<div>\n",
       "<style scoped>\n",
       "    .dataframe tbody tr th:only-of-type {\n",
       "        vertical-align: middle;\n",
       "    }\n",
       "\n",
       "    .dataframe tbody tr th {\n",
       "        vertical-align: top;\n",
       "    }\n",
       "\n",
       "    .dataframe thead th {\n",
       "        text-align: right;\n",
       "    }\n",
       "</style>\n",
       "<table border=\"1\" class=\"dataframe\">\n",
       "  <thead>\n",
       "    <tr style=\"text-align: right;\">\n",
       "      <th></th>\n",
       "      <th>NAME_FROM</th>\n",
       "      <th>TOTAL_DISTANCE</th>\n",
       "    </tr>\n",
       "  </thead>\n",
       "  <tbody>\n",
       "    <tr>\n",
       "      <th>0</th>\n",
       "      <td>KR72</td>\n",
       "      <td>201623</td>\n",
       "    </tr>\n",
       "    <tr>\n",
       "      <th>1</th>\n",
       "      <td>KR86</td>\n",
       "      <td>102505</td>\n",
       "    </tr>\n",
       "    <tr>\n",
       "      <th>2</th>\n",
       "      <td>NQS</td>\n",
       "      <td>77597</td>\n",
       "    </tr>\n",
       "    <tr>\n",
       "      <th>3</th>\n",
       "      <td>AV.P.MAYO</td>\n",
       "      <td>48152</td>\n",
       "    </tr>\n",
       "    <tr>\n",
       "      <th>4</th>\n",
       "      <td>AV.CARACAS</td>\n",
       "      <td>45479</td>\n",
       "    </tr>\n",
       "    <tr>\n",
       "      <th>5</th>\n",
       "      <td>CL13</td>\n",
       "      <td>44551</td>\n",
       "    </tr>\n",
       "    <tr>\n",
       "      <th>6</th>\n",
       "      <td>KR68</td>\n",
       "      <td>44234</td>\n",
       "    </tr>\n",
       "    <tr>\n",
       "      <th>7</th>\n",
       "      <td>AUTONORTE</td>\n",
       "      <td>41495</td>\n",
       "    </tr>\n",
       "    <tr>\n",
       "      <th>8</th>\n",
       "      <td>CL80</td>\n",
       "      <td>38548</td>\n",
       "    </tr>\n",
       "    <tr>\n",
       "      <th>9</th>\n",
       "      <td>KR7</td>\n",
       "      <td>34484</td>\n",
       "    </tr>\n",
       "  </tbody>\n",
       "</table>\n",
       "</div>"
      ]
     },
     "execution_count": 23,
     "metadata": {},
     "output_type": "execute_result"
    }
   ],
   "execution_count": 23
  },
  {
   "metadata": {
    "ExecuteTime": {
     "end_time": "2025-01-13T20:14:04.256487Z",
     "start_time": "2025-01-13T20:14:01.318236Z"
    }
   },
   "cell_type": "code",
   "source": [
    "# How much minutes is grouped the data? (Each 15 minutes)\n",
    "(\n",
    "    df.select(F.col(\"INICIO\"), F.col(\"FIN\"))\n",
    "    .withColumn(\n",
    "        \"MinuteDifference\", F.round((F.unix_timestamp(F.col(\"FIN\")) - F.unix_timestamp(F.col(\"INICIO\")))/60, 0)\n",
    "    )\n",
    ").select(F.col(\"MinuteDifference\")).distinct().show()"
   ],
   "id": "816f082e45042aed",
   "outputs": [
    {
     "name": "stderr",
     "output_type": "stream",
     "text": [
      "[Stage 143:====================================================>  (18 + 1) / 19]\r"
     ]
    },
    {
     "name": "stdout",
     "output_type": "stream",
     "text": [
      "+----------------+\n",
      "|MinuteDifference|\n",
      "+----------------+\n",
      "|            15.0|\n",
      "+----------------+\n",
      "\n"
     ]
    },
    {
     "name": "stderr",
     "output_type": "stream",
     "text": [
      "                                                                                \r"
     ]
    }
   ],
   "execution_count": 24
  },
  {
   "metadata": {
    "ExecuteTime": {
     "end_time": "2025-01-13T20:14:06.037486Z",
     "start_time": "2025-01-13T20:14:04.370835Z"
    }
   },
   "cell_type": "code",
   "source": [
    "# Show days of week\n",
    "df.select(F.col(\"DIA_SEMANA\")).distinct().show()"
   ],
   "id": "33a08a35caa9d6f8",
   "outputs": [
    {
     "name": "stderr",
     "output_type": "stream",
     "text": [
      "[Stage 146:===========================================>           (15 + 4) / 19]\r"
     ]
    },
    {
     "name": "stdout",
     "output_type": "stream",
     "text": [
      "+----------+\n",
      "|DIA_SEMANA|\n",
      "+----------+\n",
      "|    Jueves|\n",
      "|     Lunes|\n",
      "|   Viernes|\n",
      "| Miercoles|\n",
      "|   Domingo|\n",
      "|    Sabado|\n",
      "|    Martes|\n",
      "+----------+\n",
      "\n"
     ]
    },
    {
     "name": "stderr",
     "output_type": "stream",
     "text": [
      "                                                                                \r"
     ]
    }
   ],
   "execution_count": 25
  },
  {
   "metadata": {
    "ExecuteTime": {
     "end_time": "2025-01-13T20:14:07.679751Z",
     "start_time": "2025-01-13T20:14:06.155974Z"
    }
   },
   "cell_type": "code",
   "source": [
    "# Show months\n",
    "df.select(F.col(\"MES\")).distinct().show()"
   ],
   "id": "ad15a0e2875fcbf1",
   "outputs": [
    {
     "name": "stderr",
     "output_type": "stream",
     "text": [
      "[Stage 149:=================================================>     (17 + 2) / 19]\r"
     ]
    },
    {
     "name": "stdout",
     "output_type": "stream",
     "text": [
      "+---------+\n",
      "|      MES|\n",
      "+---------+\n",
      "|December |\n",
      "|July     |\n",
      "|March    |\n",
      "|August   |\n",
      "|June     |\n",
      "|October  |\n",
      "|May      |\n",
      "|February |\n",
      "|April    |\n",
      "|September|\n",
      "|January  |\n",
      "|November |\n",
      "+---------+\n",
      "\n"
     ]
    },
    {
     "name": "stderr",
     "output_type": "stream",
     "text": [
      "                                                                                \r"
     ]
    }
   ],
   "execution_count": 26
  },
  {
   "metadata": {},
   "cell_type": "markdown",
   "source": "## Stop SparkSession",
   "id": "ae0b09dab667df9"
  },
  {
   "metadata": {
    "ExecuteTime": {
     "end_time": "2025-01-13T20:31:48.822896Z",
     "start_time": "2025-01-13T20:31:47.634707Z"
    }
   },
   "cell_type": "code",
   "source": "spark.stop()",
   "id": "f98ee695cd5076c8",
   "outputs": [],
   "execution_count": 39
  },
  {
   "metadata": {},
   "cell_type": "markdown",
   "source": [
    "## Next steps to create gold layer and traffic congestion analyst\n",
    "\n",
    "- Columns to use: `INICIO`, `AÑO`, `HORA`, `DISTANCE`, `VEL_PROMEDIO`, `DIA_SEMANA`, `MES`, `NAME_FROM`, `NAME_TO`\n",
    "- Create columns `NAME_TO_1`, `NAME_TO_2`, `SENTIDO`, and `MINUTO`.\n",
    "- Fix null values in the column `AÑO`.\n",
    "- Filter data for `AÑO == 2022` and `NAME_FROM ==\"KR7\"` and `TYPE == 1`.\n",
    "- Change to english language (some columns in the original dataset is in spanish and others in english)."
   ],
   "id": "aa1334989985c425"
  },
  {
   "metadata": {
    "ExecuteTime": {
     "end_time": "2025-01-13T16:21:20.231156Z",
     "start_time": "2025-01-13T16:21:20.228271Z"
    }
   },
   "cell_type": "code",
   "source": "",
   "id": "f965491e98798813",
   "outputs": [],
   "execution_count": null
  }
 ],
 "metadata": {
  "kernelspec": {
   "display_name": "Python 3",
   "language": "python",
   "name": "python3"
  },
  "language_info": {
   "codemirror_mode": {
    "name": "ipython",
    "version": 2
   },
   "file_extension": ".py",
   "mimetype": "text/x-python",
   "name": "python",
   "nbconvert_exporter": "python",
   "pygments_lexer": "ipython2",
   "version": "2.7.6"
  }
 },
 "nbformat": 4,
 "nbformat_minor": 5
}
