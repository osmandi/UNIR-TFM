{
 "cells": [
  {
   "cell_type": "code",
   "id": "initial_id",
   "metadata": {
    "collapsed": true,
    "ExecuteTime": {
     "end_time": "2025-01-14T19:44:42.109918Z",
     "start_time": "2025-01-14T19:44:40.520103Z"
    }
   },
   "source": "import pandas as pd",
   "outputs": [],
   "execution_count": 1
  },
  {
   "metadata": {},
   "cell_type": "markdown",
   "source": "# Heatmaps union",
   "id": "20e21190d88613a8"
  },
  {
   "metadata": {
    "ExecuteTime": {
     "end_time": "2025-01-14T20:02:25.524383Z",
     "start_time": "2025-01-14T20:02:25.515302Z"
    }
   },
   "cell_type": "code",
   "source": [
    "# Union heatmaps\n",
    "df_heatmap_2020 = pd.read_csv(\"output/heatmap_2020.csv\")\n",
    "df_heatmap_2021 = pd.read_csv(\"output/heatmap_2021.csv\")\n",
    "df_heatmap_2022 = pd.read_csv(\"output/heatmap_2022.csv\")\n",
    "\n",
    "# Create year for each dataframe\n",
    "df_heatmap_2020[\"year\"] = 2020\n",
    "df_heatmap_2021[\"year\"] = 2021\n",
    "df_heatmap_2022[\"year\"] = 2022\n",
    "\n",
    "# Concat dataframes\n",
    "df_heatmap = pd.concat([df_heatmap_2020, df_heatmap_2021, df_heatmap_2022])\n",
    "df_heatmap.to_csv(\"output/heatmap.csv\", index=False)"
   ],
   "id": "fe22266a8931ecc7",
   "outputs": [],
   "execution_count": 17
  }
 ],
 "metadata": {
  "kernelspec": {
   "display_name": "Python 3",
   "language": "python",
   "name": "python3"
  },
  "language_info": {
   "codemirror_mode": {
    "name": "ipython",
    "version": 2
   },
   "file_extension": ".py",
   "mimetype": "text/x-python",
   "name": "python",
   "nbconvert_exporter": "python",
   "pygments_lexer": "ipython2",
   "version": "2.7.6"
  }
 },
 "nbformat": 4,
 "nbformat_minor": 5
}
